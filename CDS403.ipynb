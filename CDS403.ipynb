{
 "cells": [
  {
   "cell_type": "code",
   "execution_count": 1,
   "id": "5b3aa520",
   "metadata": {},
   "outputs": [],
   "source": [
    "# Load in the needed libraries to handle csv files and plots\n",
    "import numpy as np\n",
    "import pandas as pd\n",
    "import matplotlib.pyplot as plt\n",
    "import chardet\n",
    "# Sklearn libraries for ML\n",
    "from sklearn.preprocessing import OrdinalEncoder, LabelEncoder\n",
    "from sklearn.preprocessing import normalize\n",
    "from sklearn.model_selection import train_test_split\n",
    "from sklearn.svm import SVC\n",
    "from sklearn.neighbors import KNeighborsClassifier\n",
    "from sklearn.metrics import accuracy_score, confusion_matrix, classification_report\n",
    "from sklearn.metrics import RocCurveDisplay\n",
    "# Improves matplotlib\n",
    "import seaborn as sns\n",
    "# Sklearn metrics for ML and hyperparameter tuning\n",
    "from sklearn.model_selection import RandomizedSearchCV\n",
    "from sklearn.multiclass import OneVsRestClassifier\n",
    "from sklearn.metrics import r2_score, mean_squared_error\n",
    "from sklearn.metrics import roc_auc_score\n",
    "from sklearn.ensemble import RandomForestClassifier"
   ]
  },
  {
   "cell_type": "code",
   "execution_count": 3,
   "id": "2004897b",
   "metadata": {},
   "outputs": [],
   "source": [
    "# Solution to getting the encoding for the file was found at https://stackoverflow.com/questions/33819557/unicodedecodeerror-utf-8-codec-while-reading-a-csv-file\n",
    "# Opens the file and reads the encoding in the csv\n",
    "with open('Overbuff_scraped_22-04-2019.csv', 'rb') as f:\n",
    "    enc = chardet.detect(f.read())"
   ]
  },
  {
   "cell_type": "code",
   "execution_count": 4,
   "id": "c1821c64",
   "metadata": {},
   "outputs": [],
   "source": [
    "# Opens both csv files with the encoding and append them together into one dataframe\n",
    "df1 = pd.read_csv('Overbuff_scraped_22-04-2019.csv', encoding = enc['encoding'])"
   ]
  },
  {
   "cell_type": "code",
   "execution_count": 5,
   "id": "49db9a2b",
   "metadata": {},
   "outputs": [],
   "source": [
    "df2 = pd.read_csv('Overbuff_scraped_24-05-2020.csv', encoding = enc['encoding'])"
   ]
  },
  {
   "cell_type": "code",
   "execution_count": 6,
   "id": "faca15ba",
   "metadata": {},
   "outputs": [
    {
     "name": "stderr",
     "output_type": "stream",
     "text": [
      "C:\\Users\\khous\\AppData\\Local\\Temp\\ipykernel_53940\\3416078118.py:1: FutureWarning: The frame.append method is deprecated and will be removed from pandas in a future version. Use pandas.concat instead.\n",
      "  result = df1.append(df2)\n"
     ]
    }
   ],
   "source": [
    "result = df1.append(df2)"
   ]
  },
  {
   "cell_type": "code",
   "execution_count": 7,
   "id": "e5e7b69d",
   "metadata": {},
   "outputs": [
    {
     "name": "stdout",
     "output_type": "stream",
     "text": [
      "<class 'pandas.core.frame.DataFrame'>\n",
      "Int64Index: 1488 entries, 0 to 767\n",
      "Data columns (total 10 columns):\n",
      " #   Column      Non-Null Count  Dtype  \n",
      "---  ------      --------------  -----  \n",
      " 0   Hero        1488 non-null   object \n",
      " 1   Role        1488 non-null   object \n",
      " 2   Pick_rate   1488 non-null   float64\n",
      " 3   Win_rate    1488 non-null   float64\n",
      " 4   Tie_Rate    1488 non-null   float64\n",
      " 5   On_fire     1488 non-null   float64\n",
      " 6   Platform    1488 non-null   object \n",
      " 7   Rank        1488 non-null   object \n",
      " 8   Date        1488 non-null   object \n",
      " 9   Unnamed: 0  768 non-null    float64\n",
      "dtypes: float64(5), object(5)\n",
      "memory usage: 127.9+ KB\n"
     ]
    }
   ],
   "source": [
    "# Shows data types and if there are null values\n",
    "result.info()"
   ]
  },
  {
   "cell_type": "code",
   "execution_count": 8,
   "id": "7a305f77",
   "metadata": {},
   "outputs": [
    {
     "data": {
      "text/html": [
       "<div>\n",
       "<style scoped>\n",
       "    .dataframe tbody tr th:only-of-type {\n",
       "        vertical-align: middle;\n",
       "    }\n",
       "\n",
       "    .dataframe tbody tr th {\n",
       "        vertical-align: top;\n",
       "    }\n",
       "\n",
       "    .dataframe thead th {\n",
       "        text-align: right;\n",
       "    }\n",
       "</style>\n",
       "<table border=\"1\" class=\"dataframe\">\n",
       "  <thead>\n",
       "    <tr style=\"text-align: right;\">\n",
       "      <th></th>\n",
       "      <th>Hero</th>\n",
       "      <th>Role</th>\n",
       "      <th>Pick_rate</th>\n",
       "      <th>Win_rate</th>\n",
       "      <th>Tie_Rate</th>\n",
       "      <th>On_fire</th>\n",
       "      <th>Platform</th>\n",
       "      <th>Rank</th>\n",
       "      <th>Date</th>\n",
       "      <th>Unnamed: 0</th>\n",
       "    </tr>\n",
       "  </thead>\n",
       "  <tbody>\n",
       "    <tr>\n",
       "      <th>0</th>\n",
       "      <td>Reinhardt</td>\n",
       "      <td>TANK</td>\n",
       "      <td>10.08</td>\n",
       "      <td>49.85</td>\n",
       "      <td>2.75</td>\n",
       "      <td>7.33</td>\n",
       "      <td>XBL</td>\n",
       "      <td>All</td>\n",
       "      <td>2019-04-22 18:54:56</td>\n",
       "      <td>NaN</td>\n",
       "    </tr>\n",
       "    <tr>\n",
       "      <th>1</th>\n",
       "      <td>Moira</td>\n",
       "      <td>SUPPORT</td>\n",
       "      <td>7.40</td>\n",
       "      <td>51.00</td>\n",
       "      <td>2.55</td>\n",
       "      <td>9.59</td>\n",
       "      <td>XBL</td>\n",
       "      <td>All</td>\n",
       "      <td>2019-04-22 18:54:56</td>\n",
       "      <td>NaN</td>\n",
       "    </tr>\n",
       "    <tr>\n",
       "      <th>2</th>\n",
       "      <td>Mercy</td>\n",
       "      <td>SUPPORT</td>\n",
       "      <td>6.57</td>\n",
       "      <td>49.88</td>\n",
       "      <td>2.64</td>\n",
       "      <td>1.80</td>\n",
       "      <td>XBL</td>\n",
       "      <td>All</td>\n",
       "      <td>2019-04-22 18:54:56</td>\n",
       "      <td>NaN</td>\n",
       "    </tr>\n",
       "    <tr>\n",
       "      <th>3</th>\n",
       "      <td>Lúcio</td>\n",
       "      <td>SUPPORT</td>\n",
       "      <td>6.18</td>\n",
       "      <td>52.36</td>\n",
       "      <td>2.18</td>\n",
       "      <td>13.16</td>\n",
       "      <td>XBL</td>\n",
       "      <td>All</td>\n",
       "      <td>2019-04-22 18:54:56</td>\n",
       "      <td>NaN</td>\n",
       "    </tr>\n",
       "    <tr>\n",
       "      <th>4</th>\n",
       "      <td>D.Va</td>\n",
       "      <td>TANK</td>\n",
       "      <td>5.64</td>\n",
       "      <td>51.49</td>\n",
       "      <td>2.34</td>\n",
       "      <td>7.84</td>\n",
       "      <td>XBL</td>\n",
       "      <td>All</td>\n",
       "      <td>2019-04-22 18:54:56</td>\n",
       "      <td>NaN</td>\n",
       "    </tr>\n",
       "    <tr>\n",
       "      <th>5</th>\n",
       "      <td>Baptiste</td>\n",
       "      <td>SUPPORT</td>\n",
       "      <td>5.04</td>\n",
       "      <td>49.11</td>\n",
       "      <td>2.47</td>\n",
       "      <td>11.99</td>\n",
       "      <td>XBL</td>\n",
       "      <td>All</td>\n",
       "      <td>2019-04-22 18:54:56</td>\n",
       "      <td>NaN</td>\n",
       "    </tr>\n",
       "    <tr>\n",
       "      <th>6</th>\n",
       "      <td>Zarya</td>\n",
       "      <td>TANK</td>\n",
       "      <td>4.44</td>\n",
       "      <td>48.85</td>\n",
       "      <td>2.47</td>\n",
       "      <td>10.05</td>\n",
       "      <td>XBL</td>\n",
       "      <td>All</td>\n",
       "      <td>2019-04-22 18:54:56</td>\n",
       "      <td>NaN</td>\n",
       "    </tr>\n",
       "    <tr>\n",
       "      <th>7</th>\n",
       "      <td>Orisa</td>\n",
       "      <td>TANK</td>\n",
       "      <td>4.27</td>\n",
       "      <td>55.28</td>\n",
       "      <td>2.60</td>\n",
       "      <td>8.85</td>\n",
       "      <td>XBL</td>\n",
       "      <td>All</td>\n",
       "      <td>2019-04-22 18:54:56</td>\n",
       "      <td>NaN</td>\n",
       "    </tr>\n",
       "    <tr>\n",
       "      <th>8</th>\n",
       "      <td>Ana</td>\n",
       "      <td>SUPPORT</td>\n",
       "      <td>4.04</td>\n",
       "      <td>47.95</td>\n",
       "      <td>2.35</td>\n",
       "      <td>9.26</td>\n",
       "      <td>XBL</td>\n",
       "      <td>All</td>\n",
       "      <td>2019-04-22 18:54:56</td>\n",
       "      <td>NaN</td>\n",
       "    </tr>\n",
       "    <tr>\n",
       "      <th>9</th>\n",
       "      <td>Roadhog</td>\n",
       "      <td>TANK</td>\n",
       "      <td>3.89</td>\n",
       "      <td>50.91</td>\n",
       "      <td>1.95</td>\n",
       "      <td>10.07</td>\n",
       "      <td>XBL</td>\n",
       "      <td>All</td>\n",
       "      <td>2019-04-22 18:54:56</td>\n",
       "      <td>NaN</td>\n",
       "    </tr>\n",
       "  </tbody>\n",
       "</table>\n",
       "</div>"
      ],
      "text/plain": [
       "        Hero     Role  Pick_rate  Win_rate  Tie_Rate  On_fire Platform Rank  \\\n",
       "0  Reinhardt     TANK      10.08     49.85      2.75     7.33      XBL  All   \n",
       "1      Moira  SUPPORT       7.40     51.00      2.55     9.59      XBL  All   \n",
       "2      Mercy  SUPPORT       6.57     49.88      2.64     1.80      XBL  All   \n",
       "3      Lúcio  SUPPORT       6.18     52.36      2.18    13.16      XBL  All   \n",
       "4       D.Va     TANK       5.64     51.49      2.34     7.84      XBL  All   \n",
       "5   Baptiste  SUPPORT       5.04     49.11      2.47    11.99      XBL  All   \n",
       "6      Zarya     TANK       4.44     48.85      2.47    10.05      XBL  All   \n",
       "7      Orisa     TANK       4.27     55.28      2.60     8.85      XBL  All   \n",
       "8        Ana  SUPPORT       4.04     47.95      2.35     9.26      XBL  All   \n",
       "9    Roadhog     TANK       3.89     50.91      1.95    10.07      XBL  All   \n",
       "\n",
       "                  Date  Unnamed: 0  \n",
       "0  2019-04-22 18:54:56         NaN  \n",
       "1  2019-04-22 18:54:56         NaN  \n",
       "2  2019-04-22 18:54:56         NaN  \n",
       "3  2019-04-22 18:54:56         NaN  \n",
       "4  2019-04-22 18:54:56         NaN  \n",
       "5  2019-04-22 18:54:56         NaN  \n",
       "6  2019-04-22 18:54:56         NaN  \n",
       "7  2019-04-22 18:54:56         NaN  \n",
       "8  2019-04-22 18:54:56         NaN  \n",
       "9  2019-04-22 18:54:56         NaN  "
      ]
     },
     "execution_count": 8,
     "metadata": {},
     "output_type": "execute_result"
    }
   ],
   "source": [
    "# First 10 rows\n",
    "result.head(10)"
   ]
  },
  {
   "cell_type": "code",
   "execution_count": 9,
   "id": "7fb0cb41",
   "metadata": {},
   "outputs": [
    {
     "data": {
      "text/html": [
       "<div>\n",
       "<style scoped>\n",
       "    .dataframe tbody tr th:only-of-type {\n",
       "        vertical-align: middle;\n",
       "    }\n",
       "\n",
       "    .dataframe tbody tr th {\n",
       "        vertical-align: top;\n",
       "    }\n",
       "\n",
       "    .dataframe thead th {\n",
       "        text-align: right;\n",
       "    }\n",
       "</style>\n",
       "<table border=\"1\" class=\"dataframe\">\n",
       "  <thead>\n",
       "    <tr style=\"text-align: right;\">\n",
       "      <th></th>\n",
       "      <th>Hero</th>\n",
       "      <th>Role</th>\n",
       "      <th>Pick_rate</th>\n",
       "      <th>Win_rate</th>\n",
       "      <th>Tie_Rate</th>\n",
       "      <th>On_fire</th>\n",
       "      <th>Platform</th>\n",
       "      <th>Rank</th>\n",
       "      <th>Date</th>\n",
       "      <th>Unnamed: 0</th>\n",
       "    </tr>\n",
       "  </thead>\n",
       "  <tbody>\n",
       "    <tr>\n",
       "      <th>763</th>\n",
       "      <td>Symmetra</td>\n",
       "      <td>SUPPORT</td>\n",
       "      <td>0.76</td>\n",
       "      <td>50.00</td>\n",
       "      <td>0.00</td>\n",
       "      <td>8.47</td>\n",
       "      <td>XBox</td>\n",
       "      <td>Grandmaster</td>\n",
       "      <td>2020-05-24 12:13:38.816996</td>\n",
       "      <td>27.0</td>\n",
       "    </tr>\n",
       "    <tr>\n",
       "      <th>764</th>\n",
       "      <td>Pharah</td>\n",
       "      <td>OFFENSE</td>\n",
       "      <td>0.76</td>\n",
       "      <td>60.81</td>\n",
       "      <td>0.00</td>\n",
       "      <td>20.39</td>\n",
       "      <td>XBox</td>\n",
       "      <td>Grandmaster</td>\n",
       "      <td>2020-05-24 12:13:38.816996</td>\n",
       "      <td>28.0</td>\n",
       "    </tr>\n",
       "    <tr>\n",
       "      <th>765</th>\n",
       "      <td>Mei</td>\n",
       "      <td>DEFENSE</td>\n",
       "      <td>0.74</td>\n",
       "      <td>41.43</td>\n",
       "      <td>2.78</td>\n",
       "      <td>4.77</td>\n",
       "      <td>XBox</td>\n",
       "      <td>Grandmaster</td>\n",
       "      <td>2020-05-24 12:13:38.816996</td>\n",
       "      <td>29.0</td>\n",
       "    </tr>\n",
       "    <tr>\n",
       "      <th>766</th>\n",
       "      <td>Winston</td>\n",
       "      <td>TANK</td>\n",
       "      <td>0.58</td>\n",
       "      <td>51.85</td>\n",
       "      <td>3.57</td>\n",
       "      <td>4.80</td>\n",
       "      <td>XBox</td>\n",
       "      <td>Grandmaster</td>\n",
       "      <td>2020-05-24 12:13:38.816996</td>\n",
       "      <td>30.0</td>\n",
       "    </tr>\n",
       "    <tr>\n",
       "      <th>767</th>\n",
       "      <td>Reaper</td>\n",
       "      <td>OFFENSE</td>\n",
       "      <td>0.54</td>\n",
       "      <td>70.00</td>\n",
       "      <td>3.85</td>\n",
       "      <td>10.70</td>\n",
       "      <td>XBox</td>\n",
       "      <td>Grandmaster</td>\n",
       "      <td>2020-05-24 12:13:38.816996</td>\n",
       "      <td>31.0</td>\n",
       "    </tr>\n",
       "  </tbody>\n",
       "</table>\n",
       "</div>"
      ],
      "text/plain": [
       "         Hero     Role  Pick_rate  Win_rate  Tie_Rate  On_fire Platform  \\\n",
       "763  Symmetra  SUPPORT       0.76     50.00      0.00     8.47     XBox   \n",
       "764    Pharah  OFFENSE       0.76     60.81      0.00    20.39     XBox   \n",
       "765       Mei  DEFENSE       0.74     41.43      2.78     4.77     XBox   \n",
       "766   Winston     TANK       0.58     51.85      3.57     4.80     XBox   \n",
       "767    Reaper  OFFENSE       0.54     70.00      3.85    10.70     XBox   \n",
       "\n",
       "            Rank                        Date  Unnamed: 0  \n",
       "763  Grandmaster  2020-05-24 12:13:38.816996        27.0  \n",
       "764  Grandmaster  2020-05-24 12:13:38.816996        28.0  \n",
       "765  Grandmaster  2020-05-24 12:13:38.816996        29.0  \n",
       "766  Grandmaster  2020-05-24 12:13:38.816996        30.0  \n",
       "767  Grandmaster  2020-05-24 12:13:38.816996        31.0  "
      ]
     },
     "execution_count": 9,
     "metadata": {},
     "output_type": "execute_result"
    }
   ],
   "source": [
    "# Last 5 rows\n",
    "result.tail()"
   ]
  },
  {
   "cell_type": "code",
   "execution_count": 10,
   "id": "7fc3ca38",
   "metadata": {},
   "outputs": [
    {
     "data": {
      "text/html": [
       "<div>\n",
       "<style scoped>\n",
       "    .dataframe tbody tr th:only-of-type {\n",
       "        vertical-align: middle;\n",
       "    }\n",
       "\n",
       "    .dataframe tbody tr th {\n",
       "        vertical-align: top;\n",
       "    }\n",
       "\n",
       "    .dataframe thead th {\n",
       "        text-align: right;\n",
       "    }\n",
       "</style>\n",
       "<table border=\"1\" class=\"dataframe\">\n",
       "  <thead>\n",
       "    <tr style=\"text-align: right;\">\n",
       "      <th></th>\n",
       "      <th>Pick_rate</th>\n",
       "      <th>Win_rate</th>\n",
       "      <th>Tie_Rate</th>\n",
       "      <th>On_fire</th>\n",
       "    </tr>\n",
       "  </thead>\n",
       "  <tbody>\n",
       "    <tr>\n",
       "      <th>count</th>\n",
       "      <td>1488.000000</td>\n",
       "      <td>1488.000000</td>\n",
       "      <td>1488.000000</td>\n",
       "      <td>1488.000000</td>\n",
       "    </tr>\n",
       "    <tr>\n",
       "      <th>mean</th>\n",
       "      <td>3.224167</td>\n",
       "      <td>50.521237</td>\n",
       "      <td>2.066962</td>\n",
       "      <td>9.458582</td>\n",
       "    </tr>\n",
       "    <tr>\n",
       "      <th>std</th>\n",
       "      <td>2.523596</td>\n",
       "      <td>4.710143</td>\n",
       "      <td>0.614549</td>\n",
       "      <td>3.376191</td>\n",
       "    </tr>\n",
       "    <tr>\n",
       "      <th>min</th>\n",
       "      <td>0.140000</td>\n",
       "      <td>13.330000</td>\n",
       "      <td>0.000000</td>\n",
       "      <td>1.080000</td>\n",
       "    </tr>\n",
       "    <tr>\n",
       "      <th>25%</th>\n",
       "      <td>1.487500</td>\n",
       "      <td>47.897500</td>\n",
       "      <td>1.750000</td>\n",
       "      <td>7.350000</td>\n",
       "    </tr>\n",
       "    <tr>\n",
       "      <th>50%</th>\n",
       "      <td>2.390000</td>\n",
       "      <td>50.635000</td>\n",
       "      <td>2.070000</td>\n",
       "      <td>9.365000</td>\n",
       "    </tr>\n",
       "    <tr>\n",
       "      <th>75%</th>\n",
       "      <td>4.110000</td>\n",
       "      <td>53.532500</td>\n",
       "      <td>2.440000</td>\n",
       "      <td>11.527500</td>\n",
       "    </tr>\n",
       "    <tr>\n",
       "      <th>max</th>\n",
       "      <td>15.230000</td>\n",
       "      <td>70.000000</td>\n",
       "      <td>5.080000</td>\n",
       "      <td>20.910000</td>\n",
       "    </tr>\n",
       "  </tbody>\n",
       "</table>\n",
       "</div>"
      ],
      "text/plain": [
       "         Pick_rate     Win_rate     Tie_Rate      On_fire\n",
       "count  1488.000000  1488.000000  1488.000000  1488.000000\n",
       "mean      3.224167    50.521237     2.066962     9.458582\n",
       "std       2.523596     4.710143     0.614549     3.376191\n",
       "min       0.140000    13.330000     0.000000     1.080000\n",
       "25%       1.487500    47.897500     1.750000     7.350000\n",
       "50%       2.390000    50.635000     2.070000     9.365000\n",
       "75%       4.110000    53.532500     2.440000    11.527500\n",
       "max      15.230000    70.000000     5.080000    20.910000"
      ]
     },
     "execution_count": 10,
     "metadata": {},
     "output_type": "execute_result"
    }
   ],
   "source": [
    "# Drops the unnamed col and then show summary statistics\n",
    "result = result.drop([\"Unnamed: 0\"], axis = 1)\n",
    "result.describe()"
   ]
  },
  {
   "cell_type": "code",
   "execution_count": 11,
   "id": "a7da55fc",
   "metadata": {},
   "outputs": [
    {
     "data": {
      "text/html": [
       "<div>\n",
       "<style scoped>\n",
       "    .dataframe tbody tr th:only-of-type {\n",
       "        vertical-align: middle;\n",
       "    }\n",
       "\n",
       "    .dataframe tbody tr th {\n",
       "        vertical-align: top;\n",
       "    }\n",
       "\n",
       "    .dataframe thead th {\n",
       "        text-align: right;\n",
       "    }\n",
       "</style>\n",
       "<table border=\"1\" class=\"dataframe\">\n",
       "  <thead>\n",
       "    <tr style=\"text-align: right;\">\n",
       "      <th></th>\n",
       "      <th>Pick_rate</th>\n",
       "      <th>Win_rate</th>\n",
       "      <th>Tie_Rate</th>\n",
       "      <th>On_fire</th>\n",
       "    </tr>\n",
       "  </thead>\n",
       "  <tbody>\n",
       "    <tr>\n",
       "      <th>Pick_rate</th>\n",
       "      <td>1.000000</td>\n",
       "      <td>0.022422</td>\n",
       "      <td>0.180677</td>\n",
       "      <td>-0.142070</td>\n",
       "    </tr>\n",
       "    <tr>\n",
       "      <th>Win_rate</th>\n",
       "      <td>0.022422</td>\n",
       "      <td>1.000000</td>\n",
       "      <td>0.122209</td>\n",
       "      <td>0.222656</td>\n",
       "    </tr>\n",
       "    <tr>\n",
       "      <th>Tie_Rate</th>\n",
       "      <td>0.180677</td>\n",
       "      <td>0.122209</td>\n",
       "      <td>1.000000</td>\n",
       "      <td>0.098003</td>\n",
       "    </tr>\n",
       "    <tr>\n",
       "      <th>On_fire</th>\n",
       "      <td>-0.142070</td>\n",
       "      <td>0.222656</td>\n",
       "      <td>0.098003</td>\n",
       "      <td>1.000000</td>\n",
       "    </tr>\n",
       "  </tbody>\n",
       "</table>\n",
       "</div>"
      ],
      "text/plain": [
       "           Pick_rate  Win_rate  Tie_Rate   On_fire\n",
       "Pick_rate   1.000000  0.022422  0.180677 -0.142070\n",
       "Win_rate    0.022422  1.000000  0.122209  0.222656\n",
       "Tie_Rate    0.180677  0.122209  1.000000  0.098003\n",
       "On_fire    -0.142070  0.222656  0.098003  1.000000"
      ]
     },
     "execution_count": 11,
     "metadata": {},
     "output_type": "execute_result"
    }
   ],
   "source": [
    "# Shows the corrolation matrix of the data\n",
    "result.corr()"
   ]
  },
  {
   "cell_type": "code",
   "execution_count": 12,
   "id": "b3f68109",
   "metadata": {},
   "outputs": [],
   "source": [
    "# Saved the new dataframe into a csv for later work\n",
    "result.to_csv(\"Result.csv\")"
   ]
  },
  {
   "cell_type": "code",
   "execution_count": 13,
   "id": "0345cb29",
   "metadata": {},
   "outputs": [],
   "source": [
    "# Multiple ordinal encoders were created, each one encodes a different categorical variable\n",
    "encoder1 = OrdinalEncoder()"
   ]
  },
  {
   "cell_type": "code",
   "execution_count": 14,
   "id": "fe7f1ec5",
   "metadata": {},
   "outputs": [],
   "source": [
    "# Fixes roles to be more accurate to the Overwatch 1 roles\n",
    "role = result[\"Role\"].to_numpy()\n",
    "hero = result[\"Hero\"].to_numpy()\n",
    "for i in range(len(role)):\n",
    "    if (hero[i] == \"Symmetra\"):\n",
    "        role[i] = \"DAMAGE\"\n",
    "    elif(hero[i] == \"Torbjörn\"):\n",
    "        role[i] = \"DAMAGE\"\n",
    "    elif(hero[i] == \"Mei\"):\n",
    "        role[i] = \"DAMAGE\"\n",
    "    elif(hero[i] == \"Bastion\"):\n",
    "        role[i] = \"DAMAGE\"\n",
    "    elif(hero[i] == \"Widowmaker\"):\n",
    "        role[i] = \"DAMAGE\"\n",
    "    elif(hero[i] == \"Junkrat\"):\n",
    "        role[i] = \"DAMAGE\"\n",
    "    elif(hero[i] == \"Hanzo\"):\n",
    "        role[i] = \"DAMAGE\"\n",
    "for i in range(len(role)):\n",
    "    if(role[i] == \"OFFENSE\"):\n",
    "        role[i] = \"DAMAGE\""
   ]
  },
  {
   "cell_type": "code",
   "execution_count": 15,
   "id": "04d63be6",
   "metadata": {},
   "outputs": [],
   "source": [
    "# Reassigns the updated roles to the Roles column\n",
    "result[\"Role\"] = role"
   ]
  },
  {
   "cell_type": "code",
   "execution_count": 16,
   "id": "2b107ba6",
   "metadata": {},
   "outputs": [],
   "source": [
    "# Fixes the spelling mistakes and any misses from the previous loop and updates the result csv\n",
    "role = result[\"Role\"].to_numpy()\n",
    "hero = result[\"Hero\"].to_numpy()\n",
    "for i in range(len(hero)):\n",
    "    if(role[i] == \"DEFENSE\"):\n",
    "        hero[i] = \"Torbjörn\"\n",
    "        role[i] = \"DAMAGE\"\n",
    "    if(hero[i] ==\"LÃºcio\"):\n",
    "        hero[i] = \"Lúcio\"\n",
    "result[\"Hero\"] = hero\n",
    "result[\"Role\"] = role\n",
    "result.to_csv(\"Result.csv\")"
   ]
  },
  {
   "cell_type": "code",
   "execution_count": 17,
   "id": "f90ccb8e",
   "metadata": {},
   "outputs": [],
   "source": [
    "# Encodes role\n",
    "role = result[[\"Role\"]]\n",
    "encoder1.fit(role)\n",
    "role = encoder1.transform(role)"
   ]
  },
  {
   "cell_type": "code",
   "execution_count": 18,
   "id": "520a8bd7",
   "metadata": {},
   "outputs": [],
   "source": [
    "# Creates a new column called Role encoded\n",
    "result['Role_encoded'] = role"
   ]
  },
  {
   "cell_type": "code",
   "execution_count": 19,
   "id": "49b30b43",
   "metadata": {},
   "outputs": [],
   "source": [
    "# Encodes Hero names\n",
    "encoder2 = OrdinalEncoder()\n",
    "hero = result[[\"Hero\"]]\n",
    "encoder2.fit(hero)\n",
    "hero = encoder2.transform(hero)"
   ]
  },
  {
   "cell_type": "code",
   "execution_count": 20,
   "id": "f34108ae",
   "metadata": {},
   "outputs": [],
   "source": [
    "# Assigns them to a new column called Hero encoded\n",
    "result['Hero_encoded'] = hero"
   ]
  },
  {
   "cell_type": "code",
   "execution_count": 21,
   "id": "40d66e69",
   "metadata": {},
   "outputs": [
    {
     "data": {
      "text/html": [
       "<div>\n",
       "<style scoped>\n",
       "    .dataframe tbody tr th:only-of-type {\n",
       "        vertical-align: middle;\n",
       "    }\n",
       "\n",
       "    .dataframe tbody tr th {\n",
       "        vertical-align: top;\n",
       "    }\n",
       "\n",
       "    .dataframe thead th {\n",
       "        text-align: right;\n",
       "    }\n",
       "</style>\n",
       "<table border=\"1\" class=\"dataframe\">\n",
       "  <thead>\n",
       "    <tr style=\"text-align: right;\">\n",
       "      <th></th>\n",
       "      <th>Hero</th>\n",
       "      <th>Role</th>\n",
       "      <th>Pick_rate</th>\n",
       "      <th>Win_rate</th>\n",
       "      <th>Tie_Rate</th>\n",
       "      <th>On_fire</th>\n",
       "      <th>Platform</th>\n",
       "      <th>Rank</th>\n",
       "      <th>Date</th>\n",
       "      <th>Role_encoded</th>\n",
       "      <th>Hero_encoded</th>\n",
       "    </tr>\n",
       "  </thead>\n",
       "  <tbody>\n",
       "    <tr>\n",
       "      <th>0</th>\n",
       "      <td>Reinhardt</td>\n",
       "      <td>TANK</td>\n",
       "      <td>10.08</td>\n",
       "      <td>49.85</td>\n",
       "      <td>2.75</td>\n",
       "      <td>7.33</td>\n",
       "      <td>XBL</td>\n",
       "      <td>All</td>\n",
       "      <td>2019-04-22 18:54:56</td>\n",
       "      <td>2.0</td>\n",
       "      <td>19.0</td>\n",
       "    </tr>\n",
       "    <tr>\n",
       "      <th>1</th>\n",
       "      <td>Moira</td>\n",
       "      <td>SUPPORT</td>\n",
       "      <td>7.40</td>\n",
       "      <td>51.00</td>\n",
       "      <td>2.55</td>\n",
       "      <td>9.59</td>\n",
       "      <td>XBL</td>\n",
       "      <td>All</td>\n",
       "      <td>2019-04-22 18:54:56</td>\n",
       "      <td>1.0</td>\n",
       "      <td>15.0</td>\n",
       "    </tr>\n",
       "    <tr>\n",
       "      <th>2</th>\n",
       "      <td>Mercy</td>\n",
       "      <td>SUPPORT</td>\n",
       "      <td>6.57</td>\n",
       "      <td>49.88</td>\n",
       "      <td>2.64</td>\n",
       "      <td>1.80</td>\n",
       "      <td>XBL</td>\n",
       "      <td>All</td>\n",
       "      <td>2019-04-22 18:54:56</td>\n",
       "      <td>1.0</td>\n",
       "      <td>14.0</td>\n",
       "    </tr>\n",
       "    <tr>\n",
       "      <th>3</th>\n",
       "      <td>Lúcio</td>\n",
       "      <td>SUPPORT</td>\n",
       "      <td>6.18</td>\n",
       "      <td>52.36</td>\n",
       "      <td>2.18</td>\n",
       "      <td>13.16</td>\n",
       "      <td>XBL</td>\n",
       "      <td>All</td>\n",
       "      <td>2019-04-22 18:54:56</td>\n",
       "      <td>1.0</td>\n",
       "      <td>11.0</td>\n",
       "    </tr>\n",
       "    <tr>\n",
       "      <th>4</th>\n",
       "      <td>D.Va</td>\n",
       "      <td>TANK</td>\n",
       "      <td>5.64</td>\n",
       "      <td>51.49</td>\n",
       "      <td>2.34</td>\n",
       "      <td>7.84</td>\n",
       "      <td>XBL</td>\n",
       "      <td>All</td>\n",
       "      <td>2019-04-22 18:54:56</td>\n",
       "      <td>2.0</td>\n",
       "      <td>5.0</td>\n",
       "    </tr>\n",
       "  </tbody>\n",
       "</table>\n",
       "</div>"
      ],
      "text/plain": [
       "        Hero     Role  Pick_rate  Win_rate  Tie_Rate  On_fire Platform Rank  \\\n",
       "0  Reinhardt     TANK      10.08     49.85      2.75     7.33      XBL  All   \n",
       "1      Moira  SUPPORT       7.40     51.00      2.55     9.59      XBL  All   \n",
       "2      Mercy  SUPPORT       6.57     49.88      2.64     1.80      XBL  All   \n",
       "3      Lúcio  SUPPORT       6.18     52.36      2.18    13.16      XBL  All   \n",
       "4       D.Va     TANK       5.64     51.49      2.34     7.84      XBL  All   \n",
       "\n",
       "                  Date  Role_encoded  Hero_encoded  \n",
       "0  2019-04-22 18:54:56           2.0          19.0  \n",
       "1  2019-04-22 18:54:56           1.0          15.0  \n",
       "2  2019-04-22 18:54:56           1.0          14.0  \n",
       "3  2019-04-22 18:54:56           1.0          11.0  \n",
       "4  2019-04-22 18:54:56           2.0           5.0  "
      ]
     },
     "execution_count": 21,
     "metadata": {},
     "output_type": "execute_result"
    }
   ],
   "source": [
    "# Shows the updated dataframe\n",
    "result.head()"
   ]
  },
  {
   "cell_type": "code",
   "execution_count": 22,
   "id": "634587bb",
   "metadata": {},
   "outputs": [
    {
     "data": {
      "text/html": [
       "<div>\n",
       "<style scoped>\n",
       "    .dataframe tbody tr th:only-of-type {\n",
       "        vertical-align: middle;\n",
       "    }\n",
       "\n",
       "    .dataframe tbody tr th {\n",
       "        vertical-align: top;\n",
       "    }\n",
       "\n",
       "    .dataframe thead th {\n",
       "        text-align: right;\n",
       "    }\n",
       "</style>\n",
       "<table border=\"1\" class=\"dataframe\">\n",
       "  <thead>\n",
       "    <tr style=\"text-align: right;\">\n",
       "      <th></th>\n",
       "      <th>Pick_rate</th>\n",
       "      <th>Win_rate</th>\n",
       "      <th>Tie_Rate</th>\n",
       "      <th>On_fire</th>\n",
       "      <th>Role_encoded</th>\n",
       "      <th>Hero_encoded</th>\n",
       "    </tr>\n",
       "  </thead>\n",
       "  <tbody>\n",
       "    <tr>\n",
       "      <th>Pick_rate</th>\n",
       "      <td>1.000000</td>\n",
       "      <td>0.022422</td>\n",
       "      <td>0.180677</td>\n",
       "      <td>-0.142070</td>\n",
       "      <td>0.454403</td>\n",
       "      <td>-0.079852</td>\n",
       "    </tr>\n",
       "    <tr>\n",
       "      <th>Win_rate</th>\n",
       "      <td>0.022422</td>\n",
       "      <td>1.000000</td>\n",
       "      <td>0.122209</td>\n",
       "      <td>0.222656</td>\n",
       "      <td>-0.003843</td>\n",
       "      <td>0.001615</td>\n",
       "    </tr>\n",
       "    <tr>\n",
       "      <th>Tie_Rate</th>\n",
       "      <td>0.180677</td>\n",
       "      <td>0.122209</td>\n",
       "      <td>1.000000</td>\n",
       "      <td>0.098003</td>\n",
       "      <td>0.056537</td>\n",
       "      <td>-0.113548</td>\n",
       "    </tr>\n",
       "    <tr>\n",
       "      <th>On_fire</th>\n",
       "      <td>-0.142070</td>\n",
       "      <td>0.222656</td>\n",
       "      <td>0.098003</td>\n",
       "      <td>1.000000</td>\n",
       "      <td>-0.343330</td>\n",
       "      <td>-0.225739</td>\n",
       "    </tr>\n",
       "    <tr>\n",
       "      <th>Role_encoded</th>\n",
       "      <td>0.454403</td>\n",
       "      <td>-0.003843</td>\n",
       "      <td>0.056537</td>\n",
       "      <td>-0.343330</td>\n",
       "      <td>1.000000</td>\n",
       "      <td>0.209742</td>\n",
       "    </tr>\n",
       "    <tr>\n",
       "      <th>Hero_encoded</th>\n",
       "      <td>-0.079852</td>\n",
       "      <td>0.001615</td>\n",
       "      <td>-0.113548</td>\n",
       "      <td>-0.225739</td>\n",
       "      <td>0.209742</td>\n",
       "      <td>1.000000</td>\n",
       "    </tr>\n",
       "  </tbody>\n",
       "</table>\n",
       "</div>"
      ],
      "text/plain": [
       "              Pick_rate  Win_rate  Tie_Rate   On_fire  Role_encoded  \\\n",
       "Pick_rate      1.000000  0.022422  0.180677 -0.142070      0.454403   \n",
       "Win_rate       0.022422  1.000000  0.122209  0.222656     -0.003843   \n",
       "Tie_Rate       0.180677  0.122209  1.000000  0.098003      0.056537   \n",
       "On_fire       -0.142070  0.222656  0.098003  1.000000     -0.343330   \n",
       "Role_encoded   0.454403 -0.003843  0.056537 -0.343330      1.000000   \n",
       "Hero_encoded  -0.079852  0.001615 -0.113548 -0.225739      0.209742   \n",
       "\n",
       "              Hero_encoded  \n",
       "Pick_rate        -0.079852  \n",
       "Win_rate          0.001615  \n",
       "Tie_Rate         -0.113548  \n",
       "On_fire          -0.225739  \n",
       "Role_encoded      0.209742  \n",
       "Hero_encoded      1.000000  "
      ]
     },
     "execution_count": 22,
     "metadata": {},
     "output_type": "execute_result"
    }
   ],
   "source": [
    "# Updated corrolation matrix\n",
    "result.corr()"
   ]
  },
  {
   "cell_type": "code",
   "execution_count": 23,
   "id": "15847d98",
   "metadata": {},
   "outputs": [],
   "source": [
    "# Encodes the platform and creates a new column called Platform encoded\n",
    "encoder3 = OrdinalEncoder()\n",
    "console = result[[\"Platform\"]]\n",
    "encoder3.fit(console)\n",
    "console = encoder3.transform(console)\n",
    "result['Platform_encoded'] = console"
   ]
  },
  {
   "cell_type": "code",
   "execution_count": 24,
   "id": "ee7f132c",
   "metadata": {},
   "outputs": [],
   "source": [
    "# Encodes Rank and creates a new column called Rank encoded\n",
    "encoder4 = OrdinalEncoder()\n",
    "rank = result[[\"Rank\"]]\n",
    "encoder4.fit(rank)\n",
    "rank = encoder4.transform(rank)\n",
    "result['Rank_encoded'] = rank"
   ]
  },
  {
   "cell_type": "code",
   "execution_count": 25,
   "id": "7a342da4",
   "metadata": {},
   "outputs": [
    {
     "data": {
      "text/html": [
       "<div>\n",
       "<style scoped>\n",
       "    .dataframe tbody tr th:only-of-type {\n",
       "        vertical-align: middle;\n",
       "    }\n",
       "\n",
       "    .dataframe tbody tr th {\n",
       "        vertical-align: top;\n",
       "    }\n",
       "\n",
       "    .dataframe thead th {\n",
       "        text-align: right;\n",
       "    }\n",
       "</style>\n",
       "<table border=\"1\" class=\"dataframe\">\n",
       "  <thead>\n",
       "    <tr style=\"text-align: right;\">\n",
       "      <th></th>\n",
       "      <th>Hero</th>\n",
       "      <th>Role</th>\n",
       "      <th>Pick_rate</th>\n",
       "      <th>Win_rate</th>\n",
       "      <th>Tie_Rate</th>\n",
       "      <th>On_fire</th>\n",
       "      <th>Platform</th>\n",
       "      <th>Rank</th>\n",
       "      <th>Date</th>\n",
       "      <th>Role_encoded</th>\n",
       "      <th>Hero_encoded</th>\n",
       "      <th>Platform_encoded</th>\n",
       "      <th>Rank_encoded</th>\n",
       "    </tr>\n",
       "  </thead>\n",
       "  <tbody>\n",
       "    <tr>\n",
       "      <th>0</th>\n",
       "      <td>Reinhardt</td>\n",
       "      <td>TANK</td>\n",
       "      <td>10.08</td>\n",
       "      <td>49.85</td>\n",
       "      <td>2.75</td>\n",
       "      <td>7.33</td>\n",
       "      <td>XBL</td>\n",
       "      <td>All</td>\n",
       "      <td>2019-04-22 18:54:56</td>\n",
       "      <td>2.0</td>\n",
       "      <td>19.0</td>\n",
       "      <td>2.0</td>\n",
       "      <td>0.0</td>\n",
       "    </tr>\n",
       "    <tr>\n",
       "      <th>1</th>\n",
       "      <td>Moira</td>\n",
       "      <td>SUPPORT</td>\n",
       "      <td>7.40</td>\n",
       "      <td>51.00</td>\n",
       "      <td>2.55</td>\n",
       "      <td>9.59</td>\n",
       "      <td>XBL</td>\n",
       "      <td>All</td>\n",
       "      <td>2019-04-22 18:54:56</td>\n",
       "      <td>1.0</td>\n",
       "      <td>15.0</td>\n",
       "      <td>2.0</td>\n",
       "      <td>0.0</td>\n",
       "    </tr>\n",
       "    <tr>\n",
       "      <th>2</th>\n",
       "      <td>Mercy</td>\n",
       "      <td>SUPPORT</td>\n",
       "      <td>6.57</td>\n",
       "      <td>49.88</td>\n",
       "      <td>2.64</td>\n",
       "      <td>1.80</td>\n",
       "      <td>XBL</td>\n",
       "      <td>All</td>\n",
       "      <td>2019-04-22 18:54:56</td>\n",
       "      <td>1.0</td>\n",
       "      <td>14.0</td>\n",
       "      <td>2.0</td>\n",
       "      <td>0.0</td>\n",
       "    </tr>\n",
       "    <tr>\n",
       "      <th>3</th>\n",
       "      <td>Lúcio</td>\n",
       "      <td>SUPPORT</td>\n",
       "      <td>6.18</td>\n",
       "      <td>52.36</td>\n",
       "      <td>2.18</td>\n",
       "      <td>13.16</td>\n",
       "      <td>XBL</td>\n",
       "      <td>All</td>\n",
       "      <td>2019-04-22 18:54:56</td>\n",
       "      <td>1.0</td>\n",
       "      <td>11.0</td>\n",
       "      <td>2.0</td>\n",
       "      <td>0.0</td>\n",
       "    </tr>\n",
       "    <tr>\n",
       "      <th>4</th>\n",
       "      <td>D.Va</td>\n",
       "      <td>TANK</td>\n",
       "      <td>5.64</td>\n",
       "      <td>51.49</td>\n",
       "      <td>2.34</td>\n",
       "      <td>7.84</td>\n",
       "      <td>XBL</td>\n",
       "      <td>All</td>\n",
       "      <td>2019-04-22 18:54:56</td>\n",
       "      <td>2.0</td>\n",
       "      <td>5.0</td>\n",
       "      <td>2.0</td>\n",
       "      <td>0.0</td>\n",
       "    </tr>\n",
       "  </tbody>\n",
       "</table>\n",
       "</div>"
      ],
      "text/plain": [
       "        Hero     Role  Pick_rate  Win_rate  Tie_Rate  On_fire Platform Rank  \\\n",
       "0  Reinhardt     TANK      10.08     49.85      2.75     7.33      XBL  All   \n",
       "1      Moira  SUPPORT       7.40     51.00      2.55     9.59      XBL  All   \n",
       "2      Mercy  SUPPORT       6.57     49.88      2.64     1.80      XBL  All   \n",
       "3      Lúcio  SUPPORT       6.18     52.36      2.18    13.16      XBL  All   \n",
       "4       D.Va     TANK       5.64     51.49      2.34     7.84      XBL  All   \n",
       "\n",
       "                  Date  Role_encoded  Hero_encoded  Platform_encoded  \\\n",
       "0  2019-04-22 18:54:56           2.0          19.0               2.0   \n",
       "1  2019-04-22 18:54:56           1.0          15.0               2.0   \n",
       "2  2019-04-22 18:54:56           1.0          14.0               2.0   \n",
       "3  2019-04-22 18:54:56           1.0          11.0               2.0   \n",
       "4  2019-04-22 18:54:56           2.0           5.0               2.0   \n",
       "\n",
       "   Rank_encoded  \n",
       "0           0.0  \n",
       "1           0.0  \n",
       "2           0.0  \n",
       "3           0.0  \n",
       "4           0.0  "
      ]
     },
     "execution_count": 25,
     "metadata": {},
     "output_type": "execute_result"
    }
   ],
   "source": [
    "# Updated corrolation matrix\n",
    "result.head()"
   ]
  },
  {
   "cell_type": "code",
   "execution_count": 26,
   "id": "ab681ab7",
   "metadata": {},
   "outputs": [
    {
     "data": {
      "text/html": [
       "<div>\n",
       "<style scoped>\n",
       "    .dataframe tbody tr th:only-of-type {\n",
       "        vertical-align: middle;\n",
       "    }\n",
       "\n",
       "    .dataframe tbody tr th {\n",
       "        vertical-align: top;\n",
       "    }\n",
       "\n",
       "    .dataframe thead th {\n",
       "        text-align: right;\n",
       "    }\n",
       "</style>\n",
       "<table border=\"1\" class=\"dataframe\">\n",
       "  <thead>\n",
       "    <tr style=\"text-align: right;\">\n",
       "      <th></th>\n",
       "      <th>Pick_rate</th>\n",
       "      <th>Win_rate</th>\n",
       "      <th>Tie_Rate</th>\n",
       "      <th>On_fire</th>\n",
       "      <th>Role_encoded</th>\n",
       "      <th>Hero_encoded</th>\n",
       "      <th>Platform_encoded</th>\n",
       "      <th>Rank_encoded</th>\n",
       "    </tr>\n",
       "  </thead>\n",
       "  <tbody>\n",
       "    <tr>\n",
       "      <th>Pick_rate</th>\n",
       "      <td>1.000000</td>\n",
       "      <td>0.022422</td>\n",
       "      <td>0.180677</td>\n",
       "      <td>-0.142070</td>\n",
       "      <td>0.454403</td>\n",
       "      <td>-0.079852</td>\n",
       "      <td>-5.662575e-03</td>\n",
       "      <td>-1.978806e-03</td>\n",
       "    </tr>\n",
       "    <tr>\n",
       "      <th>Win_rate</th>\n",
       "      <td>0.022422</td>\n",
       "      <td>1.000000</td>\n",
       "      <td>0.122209</td>\n",
       "      <td>0.222656</td>\n",
       "      <td>-0.003843</td>\n",
       "      <td>0.001615</td>\n",
       "      <td>-3.574566e-02</td>\n",
       "      <td>8.831763e-02</td>\n",
       "    </tr>\n",
       "    <tr>\n",
       "      <th>Tie_Rate</th>\n",
       "      <td>0.180677</td>\n",
       "      <td>0.122209</td>\n",
       "      <td>1.000000</td>\n",
       "      <td>0.098003</td>\n",
       "      <td>0.056537</td>\n",
       "      <td>-0.113548</td>\n",
       "      <td>-1.027063e-02</td>\n",
       "      <td>1.216960e-02</td>\n",
       "    </tr>\n",
       "    <tr>\n",
       "      <th>On_fire</th>\n",
       "      <td>-0.142070</td>\n",
       "      <td>0.222656</td>\n",
       "      <td>0.098003</td>\n",
       "      <td>1.000000</td>\n",
       "      <td>-0.343330</td>\n",
       "      <td>-0.225739</td>\n",
       "      <td>4.321902e-02</td>\n",
       "      <td>1.343569e-02</td>\n",
       "    </tr>\n",
       "    <tr>\n",
       "      <th>Role_encoded</th>\n",
       "      <td>0.454403</td>\n",
       "      <td>-0.003843</td>\n",
       "      <td>0.056537</td>\n",
       "      <td>-0.343330</td>\n",
       "      <td>1.000000</td>\n",
       "      <td>0.209742</td>\n",
       "      <td>7.361081e-04</td>\n",
       "      <td>-1.410312e-03</td>\n",
       "    </tr>\n",
       "    <tr>\n",
       "      <th>Hero_encoded</th>\n",
       "      <td>-0.079852</td>\n",
       "      <td>0.001615</td>\n",
       "      <td>-0.113548</td>\n",
       "      <td>-0.225739</td>\n",
       "      <td>0.209742</td>\n",
       "      <td>1.000000</td>\n",
       "      <td>-2.382400e-03</td>\n",
       "      <td>-1.216272e-03</td>\n",
       "    </tr>\n",
       "    <tr>\n",
       "      <th>Platform_encoded</th>\n",
       "      <td>-0.005663</td>\n",
       "      <td>-0.035746</td>\n",
       "      <td>-0.010271</td>\n",
       "      <td>0.043219</td>\n",
       "      <td>0.000736</td>\n",
       "      <td>-0.002382</td>\n",
       "      <td>1.000000e+00</td>\n",
       "      <td>-4.745590e-17</td>\n",
       "    </tr>\n",
       "    <tr>\n",
       "      <th>Rank_encoded</th>\n",
       "      <td>-0.001979</td>\n",
       "      <td>0.088318</td>\n",
       "      <td>0.012170</td>\n",
       "      <td>0.013436</td>\n",
       "      <td>-0.001410</td>\n",
       "      <td>-0.001216</td>\n",
       "      <td>-4.745590e-17</td>\n",
       "      <td>1.000000e+00</td>\n",
       "    </tr>\n",
       "  </tbody>\n",
       "</table>\n",
       "</div>"
      ],
      "text/plain": [
       "                  Pick_rate  Win_rate  Tie_Rate   On_fire  Role_encoded  \\\n",
       "Pick_rate          1.000000  0.022422  0.180677 -0.142070      0.454403   \n",
       "Win_rate           0.022422  1.000000  0.122209  0.222656     -0.003843   \n",
       "Tie_Rate           0.180677  0.122209  1.000000  0.098003      0.056537   \n",
       "On_fire           -0.142070  0.222656  0.098003  1.000000     -0.343330   \n",
       "Role_encoded       0.454403 -0.003843  0.056537 -0.343330      1.000000   \n",
       "Hero_encoded      -0.079852  0.001615 -0.113548 -0.225739      0.209742   \n",
       "Platform_encoded  -0.005663 -0.035746 -0.010271  0.043219      0.000736   \n",
       "Rank_encoded      -0.001979  0.088318  0.012170  0.013436     -0.001410   \n",
       "\n",
       "                  Hero_encoded  Platform_encoded  Rank_encoded  \n",
       "Pick_rate            -0.079852     -5.662575e-03 -1.978806e-03  \n",
       "Win_rate              0.001615     -3.574566e-02  8.831763e-02  \n",
       "Tie_Rate             -0.113548     -1.027063e-02  1.216960e-02  \n",
       "On_fire              -0.225739      4.321902e-02  1.343569e-02  \n",
       "Role_encoded          0.209742      7.361081e-04 -1.410312e-03  \n",
       "Hero_encoded          1.000000     -2.382400e-03 -1.216272e-03  \n",
       "Platform_encoded     -0.002382      1.000000e+00 -4.745590e-17  \n",
       "Rank_encoded         -0.001216     -4.745590e-17  1.000000e+00  "
      ]
     },
     "execution_count": 26,
     "metadata": {},
     "output_type": "execute_result"
    }
   ],
   "source": [
    "# Updated corrolation matrix\n",
    "# Our target is Role, and we see that Pick rate, on fire, and the hero names are corrolated with role\n",
    "# Pick rate being the highest of the three. Adding in Win rate to see if this has any affect\n",
    "result.corr()"
   ]
  },
  {
   "cell_type": "code",
   "execution_count": 27,
   "id": "7a7e9cf9",
   "metadata": {},
   "outputs": [],
   "source": [
    "# Our target variable: Role\n",
    "Y = result[\"Role\"]"
   ]
  },
  {
   "cell_type": "code",
   "execution_count": 28,
   "id": "e9b1515f",
   "metadata": {},
   "outputs": [
    {
     "data": {
      "text/html": [
       "<div>\n",
       "<style scoped>\n",
       "    .dataframe tbody tr th:only-of-type {\n",
       "        vertical-align: middle;\n",
       "    }\n",
       "\n",
       "    .dataframe tbody tr th {\n",
       "        vertical-align: top;\n",
       "    }\n",
       "\n",
       "    .dataframe thead th {\n",
       "        text-align: right;\n",
       "    }\n",
       "</style>\n",
       "<table border=\"1\" class=\"dataframe\">\n",
       "  <thead>\n",
       "    <tr style=\"text-align: right;\">\n",
       "      <th></th>\n",
       "      <th>Pick_rate</th>\n",
       "      <th>On_fire</th>\n",
       "      <th>Hero_encoded</th>\n",
       "      <th>Win_rate</th>\n",
       "    </tr>\n",
       "  </thead>\n",
       "  <tbody>\n",
       "    <tr>\n",
       "      <th>0</th>\n",
       "      <td>10.08</td>\n",
       "      <td>7.33</td>\n",
       "      <td>19.0</td>\n",
       "      <td>49.85</td>\n",
       "    </tr>\n",
       "    <tr>\n",
       "      <th>1</th>\n",
       "      <td>7.40</td>\n",
       "      <td>9.59</td>\n",
       "      <td>15.0</td>\n",
       "      <td>51.00</td>\n",
       "    </tr>\n",
       "    <tr>\n",
       "      <th>2</th>\n",
       "      <td>6.57</td>\n",
       "      <td>1.80</td>\n",
       "      <td>14.0</td>\n",
       "      <td>49.88</td>\n",
       "    </tr>\n",
       "    <tr>\n",
       "      <th>3</th>\n",
       "      <td>6.18</td>\n",
       "      <td>13.16</td>\n",
       "      <td>11.0</td>\n",
       "      <td>52.36</td>\n",
       "    </tr>\n",
       "    <tr>\n",
       "      <th>4</th>\n",
       "      <td>5.64</td>\n",
       "      <td>7.84</td>\n",
       "      <td>5.0</td>\n",
       "      <td>51.49</td>\n",
       "    </tr>\n",
       "    <tr>\n",
       "      <th>...</th>\n",
       "      <td>...</td>\n",
       "      <td>...</td>\n",
       "      <td>...</td>\n",
       "      <td>...</td>\n",
       "    </tr>\n",
       "    <tr>\n",
       "      <th>763</th>\n",
       "      <td>0.76</td>\n",
       "      <td>8.47</td>\n",
       "      <td>24.0</td>\n",
       "      <td>50.00</td>\n",
       "    </tr>\n",
       "    <tr>\n",
       "      <th>764</th>\n",
       "      <td>0.76</td>\n",
       "      <td>20.39</td>\n",
       "      <td>17.0</td>\n",
       "      <td>60.81</td>\n",
       "    </tr>\n",
       "    <tr>\n",
       "      <th>765</th>\n",
       "      <td>0.74</td>\n",
       "      <td>4.77</td>\n",
       "      <td>13.0</td>\n",
       "      <td>41.43</td>\n",
       "    </tr>\n",
       "    <tr>\n",
       "      <th>766</th>\n",
       "      <td>0.58</td>\n",
       "      <td>4.80</td>\n",
       "      <td>28.0</td>\n",
       "      <td>51.85</td>\n",
       "    </tr>\n",
       "    <tr>\n",
       "      <th>767</th>\n",
       "      <td>0.54</td>\n",
       "      <td>10.70</td>\n",
       "      <td>18.0</td>\n",
       "      <td>70.00</td>\n",
       "    </tr>\n",
       "  </tbody>\n",
       "</table>\n",
       "<p>1488 rows × 4 columns</p>\n",
       "</div>"
      ],
      "text/plain": [
       "     Pick_rate  On_fire  Hero_encoded  Win_rate\n",
       "0        10.08     7.33          19.0     49.85\n",
       "1         7.40     9.59          15.0     51.00\n",
       "2         6.57     1.80          14.0     49.88\n",
       "3         6.18    13.16          11.0     52.36\n",
       "4         5.64     7.84           5.0     51.49\n",
       "..         ...      ...           ...       ...\n",
       "763       0.76     8.47          24.0     50.00\n",
       "764       0.76    20.39          17.0     60.81\n",
       "765       0.74     4.77          13.0     41.43\n",
       "766       0.58     4.80          28.0     51.85\n",
       "767       0.54    10.70          18.0     70.00\n",
       "\n",
       "[1488 rows x 4 columns]"
      ]
     },
     "execution_count": 28,
     "metadata": {},
     "output_type": "execute_result"
    }
   ],
   "source": [
    "# Our features variables\n",
    "X = result.loc[:, [\"Pick_rate\", \"On_fire\", \"Hero_encoded\", \"Win_rate\"]]\n",
    "X"
   ]
  },
  {
   "cell_type": "code",
   "execution_count": 35,
   "id": "047fe3e6",
   "metadata": {},
   "outputs": [
    {
     "data": {
      "text/plain": [
       "Text(0.5, 1.0, 'Distribution of Win rates')"
      ]
     },
     "execution_count": 35,
     "metadata": {},
     "output_type": "execute_result"
    },
    {
     "data": {
      "image/png": "[encoded data removed]",
      "text/plain": [
       "<Figure size 432x288 with 1 Axes>"
      ]
     },
     "metadata": {
      "needs_background": "light"
     },
     "output_type": "display_data"
    }
   ],
   "source": [
    "# Distribution of win rates\n",
    "plt.hist(result[\"Win_rate\"].to_numpy()/100)\n",
    "plt.xlabel(\"Win rates\")\n",
    "plt.title(\"Distribution of Win rates\")"
   ]
  },
  {
   "cell_type": "code",
   "execution_count": 36,
   "id": "68c104d3",
   "metadata": {},
   "outputs": [
    {
     "data": {
      "text/plain": [
       "Text(0.5, 1.0, 'Distribution of Pick rate')"
      ]
     },
     "execution_count": 36,
     "metadata": {},
     "output_type": "execute_result"
    },
    {
     "data": {
      "image/png": "[encoded data removed]",
      "text/plain": [
       "<Figure size 432x288 with 1 Axes>"
      ]
     },
     "metadata": {
      "needs_background": "light"
     },
     "output_type": "display_data"
    }
   ],
   "source": [
    "# Distribution of Pick rate\n",
    "plt.hist(result[\"Pick_rate\"].to_numpy()/100)\n",
    "plt.xlabel(\"Pick rate\")\n",
    "plt.title(\"Distribution of Pick rate\")"
   ]
  },
  {
   "cell_type": "code",
   "execution_count": 30,
   "id": "1f6b1b75",
   "metadata": {},
   "outputs": [
    {
     "data": {
      "image/png": "[encoded data removed]",
      "text/plain": [
       "<Figure size 432x288 with 1 Axes>"
      ]
     },
     "metadata": {
      "needs_background": "light"
     },
     "output_type": "display_data"
    }
   ],
   "source": [
    "# Scatter plot of roles vs on fire\n",
    "plt.scatter(result[\"On_fire\"].to_numpy(), result[\"Role\"].to_numpy())\n",
    "plt.xlabel(\"On fire rate\")\n",
    "plt.title(\"On fire vs. Role\")\n",
    "plt.show()"
   ]
  },
  {
   "cell_type": "code",
   "execution_count": 31,
   "id": "83cc2e38",
   "metadata": {},
   "outputs": [
    {
     "data": {
      "image/png": "[encoded data removed]",
      "text/plain": [
       "<Figure size 432x288 with 1 Axes>"
      ]
     },
     "metadata": {
      "needs_background": "light"
     },
     "output_type": "display_data"
    }
   ],
   "source": [
    "# Pick rates vs roles scatter plot\n",
    "plt.scatter(result[\"Pick_rate\"].to_numpy(), result[\"Role\"].to_numpy())\n",
    "plt.xlabel(\"Pick rate\")\n",
    "plt.title(\"Pick rate vs Role\")\n",
    "plt.show()"
   ]
  },
  {
   "cell_type": "code",
   "execution_count": 32,
   "id": "8314d3c7",
   "metadata": {},
   "outputs": [
    {
     "data": {
      "image/png": "[encoded data removed]",
      "text/plain": [
       "<Figure size 432x288 with 1 Axes>"
      ]
     },
     "metadata": {
      "needs_background": "light"
     },
     "output_type": "display_data"
    }
   ],
   "source": [
    "# Hero vs role\n",
    "# More damage than any other class\n",
    "plt.scatter(result[\"Hero_encoded\"].to_numpy(), result[\"Role\"].to_numpy())\n",
    "plt.xlabel(\"Heros\")\n",
    "plt.title(\"Hero vs Role\")\n",
    "plt.show()"
   ]
  },
  {
   "cell_type": "code",
   "execution_count": 33,
   "id": "af74f030",
   "metadata": {},
   "outputs": [],
   "source": [
    "# The initial svm model\n",
    "svc = SVC()"
   ]
  },
  {
   "cell_type": "code",
   "execution_count": 34,
   "id": "1aebeca1",
   "metadata": {},
   "outputs": [],
   "source": [
    "# Creates the test train split, 70-30 split\n",
    "X_train, X_test, y_train, y_test = train_test_split(X, Y, test_size = 0.3) "
   ]
  },
  {
   "cell_type": "code",
   "execution_count": 35,
   "id": "b70a4756",
   "metadata": {},
   "outputs": [
    {
     "data": {
      "text/plain": [
       "SVC()"
      ]
     },
     "execution_count": 35,
     "metadata": {},
     "output_type": "execute_result"
    }
   ],
   "source": [
    "# Fits the model\n",
    "svc.fit(X_train, y_train)"
   ]
  },
  {
   "cell_type": "code",
   "execution_count": 36,
   "id": "044cb014",
   "metadata": {},
   "outputs": [],
   "source": [
    "# Stores the predictions using x test\n",
    "pred_test = svc.predict(X_test)"
   ]
  },
  {
   "cell_type": "code",
   "execution_count": 37,
   "id": "5b137a42",
   "metadata": {
    "scrolled": true
   },
   "outputs": [
    {
     "name": "stdout",
     "output_type": "stream",
     "text": [
      "              precision    recall  f1-score   support\n",
      "\n",
      "      DAMAGE       0.70      0.92      0.80       252\n",
      "     SUPPORT       0.54      0.21      0.30        96\n",
      "        TANK       0.61      0.48      0.54        99\n",
      "\n",
      "    accuracy                           0.67       447\n",
      "   macro avg       0.62      0.54      0.55       447\n",
      "weighted avg       0.65      0.67      0.63       447\n",
      "\n"
     ]
    }
   ],
   "source": [
    "# Prints the classification results\n",
    "print(classification_report(y_test, pred_test))"
   ]
  },
  {
   "cell_type": "code",
   "execution_count": 38,
   "id": "884a610f",
   "metadata": {},
   "outputs": [
    {
     "data": {
      "image/png": "[encoded data removed]",
      "text/plain": [
       "<Figure size 1152x504 with 2 Axes>"
      ]
     },
     "metadata": {
      "needs_background": "light"
     },
     "output_type": "display_data"
    }
   ],
   "source": [
    "# Creates the confusion matrix for the SVM model\n",
    "matrix = confusion_matrix(y_test, pred_test)\n",
    "matrix = matrix.astype('float') / matrix.sum(axis=1)[:, np.newaxis]\n",
    "\n",
    "# Build the plot\n",
    "plt.figure(figsize=(16,7))\n",
    "sns.set(font_scale=1.4)\n",
    "sns.heatmap(matrix, annot=True, annot_kws={'size':10},\n",
    "            cmap=plt.cm.Greens, linewidths=0.2)\n",
    "\n",
    "# Add labels to the plot\n",
    "class_names = ['Damage', 'Support', \"Tank\"]\n",
    "tick_marks = np.arange(len(class_names))\n",
    "tick_marks2 = tick_marks + 0.5\n",
    "plt.xticks(tick_marks, class_names, rotation=25)\n",
    "plt.yticks(tick_marks2, class_names, rotation=0)\n",
    "plt.xlabel('Predicted label')\n",
    "plt.ylabel('True label')\n",
    "plt.title('Confusion Matrix for SVC')\n",
    "plt.show()"
   ]
  },
  {
   "cell_type": "code",
   "execution_count": 39,
   "id": "31e4aa8c",
   "metadata": {},
   "outputs": [],
   "source": [
    "# Creates the grid of parameters for random grid search\n",
    "param_grid = {'C': [1, 10, 100, 1000, 10000], \n",
    "              'gamma': [\"scale\", \"auto\"],\n",
    "              'kernel': ['linear', 'rbf']} "
   ]
  },
  {
   "cell_type": "code",
   "execution_count": 40,
   "id": "80a54255",
   "metadata": {},
   "outputs": [],
   "source": [
    "# Creates the random grid\n",
    "grid = RandomizedSearchCV(SVC(), param_grid, refit = True, verbose = 5)"
   ]
  },
  {
   "cell_type": "code",
   "execution_count": 41,
   "id": "67237876",
   "metadata": {
    "scrolled": true
   },
   "outputs": [
    {
     "name": "stdout",
     "output_type": "stream",
     "text": [
      "Fitting 5 folds for each of 10 candidates, totalling 50 fits\n",
      "[CV 1/5] END ....C=1, gamma=auto, kernel=linear;, score=0.708 total time=   0.0s\n",
      "[CV 2/5] END ....C=1, gamma=auto, kernel=linear;, score=0.750 total time=   0.0s\n",
      "[CV 3/5] END ....C=1, gamma=auto, kernel=linear;, score=0.712 total time=   0.0s\n",
      "[CV 4/5] END ....C=1, gamma=auto, kernel=linear;, score=0.755 total time=   0.0s\n",
      "[CV 5/5] END ....C=1, gamma=auto, kernel=linear;, score=0.716 total time=   0.0s\n",
      "[CV 1/5] END C=10000, gamma=auto, kernel=linear;, score=0.718 total time=  19.3s\n",
      "[CV 2/5] END C=10000, gamma=auto, kernel=linear;, score=0.745 total time=  22.3s\n",
      "[CV 3/5] END C=10000, gamma=auto, kernel=linear;, score=0.707 total time=  24.4s\n",
      "[CV 4/5] END C=10000, gamma=auto, kernel=linear;, score=0.774 total time=  22.2s\n",
      "[CV 5/5] END C=10000, gamma=auto, kernel=linear;, score=0.736 total time=  23.8s\n",
      "[CV 1/5] END ......C=1, gamma=scale, kernel=rbf;, score=0.737 total time=   0.0s\n",
      "[CV 2/5] END ......C=1, gamma=scale, kernel=rbf;, score=0.668 total time=   0.0s\n",
      "[CV 3/5] END ......C=1, gamma=scale, kernel=rbf;, score=0.712 total time=   0.0s\n",
      "[CV 4/5] END ......C=1, gamma=scale, kernel=rbf;, score=0.683 total time=   0.0s\n",
      "[CV 5/5] END ......C=1, gamma=scale, kernel=rbf;, score=0.692 total time=   0.0s\n",
      "[CV 1/5] END ..C=100, gamma=auto, kernel=linear;, score=0.708 total time=   3.9s\n",
      "[CV 2/5] END ..C=100, gamma=auto, kernel=linear;, score=0.755 total time=   4.2s\n",
      "[CV 3/5] END ..C=100, gamma=auto, kernel=linear;, score=0.716 total time=   3.5s\n",
      "[CV 4/5] END ..C=100, gamma=auto, kernel=linear;, score=0.721 total time=   3.8s\n",
      "[CV 5/5] END ..C=100, gamma=auto, kernel=linear;, score=0.721 total time=   4.7s\n",
      "[CV 1/5] END ...C=1, gamma=scale, kernel=linear;, score=0.708 total time=   0.0s\n",
      "[CV 2/5] END ...C=1, gamma=scale, kernel=linear;, score=0.750 total time=   0.0s\n",
      "[CV 3/5] END ...C=1, gamma=scale, kernel=linear;, score=0.712 total time=   0.0s\n",
      "[CV 4/5] END ...C=1, gamma=scale, kernel=linear;, score=0.755 total time=   0.0s\n",
      "[CV 5/5] END ...C=1, gamma=scale, kernel=linear;, score=0.716 total time=   0.0s\n",
      "[CV 1/5] END C=1000, gamma=scale, kernel=linear;, score=0.727 total time=  19.9s\n",
      "[CV 2/5] END C=1000, gamma=scale, kernel=linear;, score=0.755 total time=  15.0s\n",
      "[CV 3/5] END C=1000, gamma=scale, kernel=linear;, score=0.726 total time=  18.0s\n",
      "[CV 4/5] END C=1000, gamma=scale, kernel=linear;, score=0.740 total time=  18.0s\n",
      "[CV 5/5] END C=1000, gamma=scale, kernel=linear;, score=0.760 total time=  27.2s\n",
      "[CV 1/5] END ...C=1000, gamma=scale, kernel=rbf;, score=0.842 total time=   0.0s\n",
      "[CV 2/5] END ...C=1000, gamma=scale, kernel=rbf;, score=0.861 total time=   0.0s\n",
      "[CV 3/5] END ...C=1000, gamma=scale, kernel=rbf;, score=0.841 total time=   0.0s\n",
      "[CV 4/5] END ...C=1000, gamma=scale, kernel=rbf;, score=0.856 total time=   0.0s\n",
      "[CV 5/5] END ...C=1000, gamma=scale, kernel=rbf;, score=0.817 total time=   0.0s\n",
      "[CV 1/5] END .C=1000, gamma=auto, kernel=linear;, score=0.727 total time=  20.0s\n",
      "[CV 2/5] END .C=1000, gamma=auto, kernel=linear;, score=0.755 total time=  14.9s\n",
      "[CV 3/5] END .C=1000, gamma=auto, kernel=linear;, score=0.726 total time=  17.9s\n",
      "[CV 4/5] END .C=1000, gamma=auto, kernel=linear;, score=0.740 total time=  16.1s\n",
      "[CV 5/5] END .C=1000, gamma=auto, kernel=linear;, score=0.760 total time=  26.8s\n",
      "[CV 1/5] END ..C=10000, gamma=scale, kernel=rbf;, score=0.842 total time=   0.1s\n",
      "[CV 2/5] END ..C=10000, gamma=scale, kernel=rbf;, score=0.899 total time=   0.2s\n",
      "[CV 3/5] END ..C=10000, gamma=scale, kernel=rbf;, score=0.861 total time=   0.1s\n",
      "[CV 4/5] END ..C=10000, gamma=scale, kernel=rbf;, score=0.909 total time=   0.1s\n",
      "[CV 5/5] END ..C=10000, gamma=scale, kernel=rbf;, score=0.861 total time=   0.1s\n",
      "[CV 1/5] END C=10000, gamma=scale, kernel=linear;, score=0.718 total time=  19.9s\n",
      "[CV 2/5] END C=10000, gamma=scale, kernel=linear;, score=0.745 total time=  22.8s\n",
      "[CV 3/5] END C=10000, gamma=scale, kernel=linear;, score=0.707 total time=  24.0s\n",
      "[CV 4/5] END C=10000, gamma=scale, kernel=linear;, score=0.774 total time=  22.1s\n",
      "[CV 5/5] END C=10000, gamma=scale, kernel=linear;, score=0.736 total time=  23.5s\n"
     ]
    },
    {
     "data": {
      "text/plain": [
       "RandomizedSearchCV(estimator=SVC(),\n",
       "                   param_distributions={'C': [1, 10, 100, 1000, 10000],\n",
       "                                        'gamma': ['scale', 'auto'],\n",
       "                                        'kernel': ['linear', 'rbf']},\n",
       "                   verbose=5)"
      ]
     },
     "execution_count": 41,
     "metadata": {},
     "output_type": "execute_result"
    }
   ],
   "source": [
    "# Fits the training set to the grid\n",
    "grid.fit(X_train, y_train)"
   ]
  },
  {
   "cell_type": "code",
   "execution_count": 42,
   "id": "dc089416",
   "metadata": {},
   "outputs": [
    {
     "name": "stdout",
     "output_type": "stream",
     "text": [
      "{'kernel': 'rbf', 'gamma': 'scale', 'C': 10000}\n"
     ]
    }
   ],
   "source": [
    "# Best parameters found in the grid\n",
    "print(grid.best_params_)"
   ]
  },
  {
   "cell_type": "code",
   "execution_count": 43,
   "id": "5880d301",
   "metadata": {},
   "outputs": [
    {
     "name": "stdout",
     "output_type": "stream",
     "text": [
      "SVC(C=10000)\n"
     ]
    }
   ],
   "source": [
    "# Similar to above\n",
    "print(grid.best_estimator_)"
   ]
  },
  {
   "cell_type": "code",
   "execution_count": 44,
   "id": "7042d2f4",
   "metadata": {},
   "outputs": [
    {
     "name": "stdout",
     "output_type": "stream",
     "text": [
      "              precision    recall  f1-score   support\n",
      "\n",
      "      DAMAGE       0.84      0.90      0.87       252\n",
      "     SUPPORT       0.84      0.75      0.79        96\n",
      "        TANK       0.85      0.80      0.82        99\n",
      "\n",
      "    accuracy                           0.84       447\n",
      "   macro avg       0.84      0.81      0.83       447\n",
      "weighted avg       0.84      0.84      0.84       447\n",
      "\n"
     ]
    }
   ],
   "source": [
    "# Stores the prediction from the fit\n",
    "grid_predictions = grid.predict(X_test)\n",
    "  \n",
    "# print classification report\n",
    "print(classification_report(y_test, grid_predictions))"
   ]
  },
  {
   "cell_type": "code",
   "execution_count": 76,
   "id": "efcc7b2c",
   "metadata": {},
   "outputs": [],
   "source": [
    "# The next block fo code is showing the same results from the random grid search\n",
    "svc = SVC(C = 10000, kernel='rbf', gamma = 'auto')"
   ]
  },
  {
   "cell_type": "code",
   "execution_count": 77,
   "id": "8304e64d",
   "metadata": {},
   "outputs": [
    {
     "data": {
      "text/plain": [
       "SVC(C=10000, gamma='auto')"
      ]
     },
     "execution_count": 77,
     "metadata": {},
     "output_type": "execute_result"
    }
   ],
   "source": [
    "svc.fit(X_train, y_train)"
   ]
  },
  {
   "cell_type": "code",
   "execution_count": 78,
   "id": "152ccbd0",
   "metadata": {},
   "outputs": [],
   "source": [
    "pred_test = svc.predict(X_test)"
   ]
  },
  {
   "cell_type": "code",
   "execution_count": 79,
   "id": "24ea4ce1",
   "metadata": {},
   "outputs": [
    {
     "name": "stdout",
     "output_type": "stream",
     "text": [
      "              precision    recall  f1-score   support\n",
      "\n",
      "      DAMAGE       0.93      0.97      0.95       252\n",
      "     SUPPORT       0.93      0.86      0.90        96\n",
      "        TANK       0.99      0.95      0.97        99\n",
      "\n",
      "    accuracy                           0.94       447\n",
      "   macro avg       0.95      0.93      0.94       447\n",
      "weighted avg       0.94      0.94      0.94       447\n",
      "\n"
     ]
    }
   ],
   "source": [
    "print(classification_report(y_test, pred_test))"
   ]
  },
  {
   "cell_type": "code",
   "execution_count": 80,
   "id": "d6c6d8e3",
   "metadata": {},
   "outputs": [
    {
     "data": {
      "image/png": "[encoded data removed]",
      "text/plain": [
       "<Figure size 1152x504 with 2 Axes>"
      ]
     },
     "metadata": {},
     "output_type": "display_data"
    }
   ],
   "source": [
    "# Creates the confusion matrix for the tuned SVM model\n",
    "# Get and reshape confusion matrix data\n",
    "matrix = confusion_matrix(y_test, pred_test)\n",
    "matrix = matrix.astype('float') / matrix.sum(axis=1)[:, np.newaxis]\n",
    "\n",
    "# Build the plot\n",
    "plt.figure(figsize=(16,7))\n",
    "sns.set(font_scale=1.4)\n",
    "sns.heatmap(matrix, annot=True, annot_kws={'size':10},\n",
    "            cmap=plt.cm.Greens, linewidths=0.2)\n",
    "\n",
    "# Add labels to the plot\n",
    "class_names = ['Damage', 'Support', \"Tank\"]\n",
    "tick_marks = np.arange(len(class_names))\n",
    "tick_marks2 = tick_marks + 0.5\n",
    "plt.xticks(tick_marks, class_names, rotation=25)\n",
    "plt.yticks(tick_marks2, class_names, rotation=0)\n",
    "plt.xlabel('Predicted label')\n",
    "plt.ylabel('True label')\n",
    "plt.title('Confusion Matrix for SVC Tuned Hyperparameters')\n",
    "plt.show()"
   ]
  },
  {
   "cell_type": "code",
   "execution_count": 50,
   "id": "ad532a2b",
   "metadata": {},
   "outputs": [],
   "source": [
    "# Creates the initial KNN model\n",
    "knn = KNeighborsClassifier()"
   ]
  },
  {
   "cell_type": "code",
   "execution_count": 51,
   "id": "34f06186",
   "metadata": {},
   "outputs": [
    {
     "data": {
      "text/plain": [
       "KNeighborsClassifier()"
      ]
     },
     "execution_count": 51,
     "metadata": {},
     "output_type": "execute_result"
    }
   ],
   "source": [
    "# Fits the model to our training set\n",
    "knn.fit(X_train, y_train)"
   ]
  },
  {
   "cell_type": "code",
   "execution_count": 52,
   "id": "df9ca5d5",
   "metadata": {},
   "outputs": [],
   "source": [
    "# Grab our predictions\n",
    "pred_test = knn.predict(X_test)"
   ]
  },
  {
   "cell_type": "code",
   "execution_count": 53,
   "id": "0fba416f",
   "metadata": {},
   "outputs": [
    {
     "name": "stdout",
     "output_type": "stream",
     "text": [
      "              precision    recall  f1-score   support\n",
      "\n",
      "      DAMAGE       0.93      0.93      0.93       252\n",
      "     SUPPORT       0.88      0.89      0.88        96\n",
      "        TANK       0.94      0.93      0.93        99\n",
      "\n",
      "    accuracy                           0.92       447\n",
      "   macro avg       0.92      0.92      0.92       447\n",
      "weighted avg       0.92      0.92      0.92       447\n",
      "\n"
     ]
    }
   ],
   "source": [
    "# Prints the classification report\n",
    "print(classification_report(y_test, pred_test))"
   ]
  },
  {
   "cell_type": "code",
   "execution_count": 54,
   "id": "1e025e27",
   "metadata": {},
   "outputs": [
    {
     "data": {
      "image/png": "[encoded data removed]",
      "text/plain": [
       "<Figure size 1152x504 with 2 Axes>"
      ]
     },
     "metadata": {},
     "output_type": "display_data"
    }
   ],
   "source": [
    "# Creates the confusion matrix for the KNN\n",
    "# Get and reshape confusion matrix data\n",
    "matrix = confusion_matrix(y_test, pred_test)\n",
    "matrix = matrix.astype('float') / matrix.sum(axis=1)[:, np.newaxis]\n",
    "\n",
    "# Build the plot\n",
    "plt.figure(figsize=(16,7))\n",
    "sns.set(font_scale=1.4)\n",
    "sns.heatmap(matrix, annot=True, annot_kws={'size':10},\n",
    "            cmap=plt.cm.Greens, linewidths=0.2)\n",
    "\n",
    "# Add labels to the plot\n",
    "class_names = ['Damage', 'Support', \"Tank\"]\n",
    "tick_marks = np.arange(len(class_names))\n",
    "tick_marks2 = tick_marks + 0.5\n",
    "plt.xticks(tick_marks, class_names, rotation=25)\n",
    "plt.yticks(tick_marks2, class_names, rotation=0)\n",
    "plt.xlabel('Predicted label')\n",
    "plt.ylabel('True label')\n",
    "plt.title('Confusion Matrix for KNN')\n",
    "plt.show()"
   ]
  },
  {
   "cell_type": "code",
   "execution_count": 55,
   "id": "8214756f",
   "metadata": {},
   "outputs": [],
   "source": [
    "# Create our intial random forest\n",
    "rfc = RandomForestClassifier()"
   ]
  },
  {
   "cell_type": "code",
   "execution_count": 56,
   "id": "232e2416",
   "metadata": {},
   "outputs": [
    {
     "data": {
      "text/plain": [
       "RandomForestClassifier()"
      ]
     },
     "execution_count": 56,
     "metadata": {},
     "output_type": "execute_result"
    }
   ],
   "source": [
    "# Fits the training data\n",
    "rfc.fit(X_train, y_train)"
   ]
  },
  {
   "cell_type": "code",
   "execution_count": 57,
   "id": "6e5191bc",
   "metadata": {},
   "outputs": [],
   "source": [
    "# Stores our predictions\n",
    "pred_test = rfc.predict(X_test)"
   ]
  },
  {
   "cell_type": "code",
   "execution_count": 58,
   "id": "83464f64",
   "metadata": {},
   "outputs": [
    {
     "name": "stdout",
     "output_type": "stream",
     "text": [
      "              precision    recall  f1-score   support\n",
      "\n",
      "      DAMAGE       0.97      0.97      0.97       252\n",
      "     SUPPORT       0.93      0.94      0.93        96\n",
      "        TANK       0.99      0.98      0.98        99\n",
      "\n",
      "    accuracy                           0.96       447\n",
      "   macro avg       0.96      0.96      0.96       447\n",
      "weighted avg       0.96      0.96      0.96       447\n",
      "\n"
     ]
    }
   ],
   "source": [
    "# Prints the classification report\n",
    "print(classification_report(y_test, pred_test))"
   ]
  },
  {
   "cell_type": "code",
   "execution_count": 59,
   "id": "219aca6b",
   "metadata": {},
   "outputs": [
    {
     "data": {
      "image/png": "[encoded data removed]",
      "text/plain": [
       "<Figure size 1152x504 with 2 Axes>"
      ]
     },
     "metadata": {},
     "output_type": "display_data"
    }
   ],
   "source": [
    "# Creates the confusion matrix for the random forest\n",
    "# Get and reshape confusion matrix data\n",
    "matrix = confusion_matrix(y_test, pred_test)\n",
    "matrix = matrix.astype('float') / matrix.sum(axis=1)[:, np.newaxis]\n",
    "\n",
    "# Build the plot\n",
    "plt.figure(figsize=(16,7))\n",
    "sns.set(font_scale=1.4)\n",
    "sns.heatmap(matrix, annot=True, annot_kws={'size':10},\n",
    "            cmap=plt.cm.Greens, linewidths=0.2)\n",
    "\n",
    "# Add labels to the plot\n",
    "class_names = ['Damage', 'Support', \"Tank\"]\n",
    "tick_marks = np.arange(len(class_names))\n",
    "tick_marks2 = tick_marks + 0.5\n",
    "plt.xticks(tick_marks, class_names, rotation=25)\n",
    "plt.yticks(tick_marks2, class_names, rotation=0)\n",
    "plt.xlabel('Predicted label')\n",
    "plt.ylabel('True label')\n",
    "plt.title('Confusion Matrix for RFC')\n",
    "plt.show()"
   ]
  },
  {
   "cell_type": "code",
   "execution_count": 60,
   "id": "1efc35e0",
   "metadata": {},
   "outputs": [],
   "source": [
    "# Our random grid for the random grid search for the random forest\n",
    "n_estimators = [5, 10, 20, 50, 100, 120, 140, 160] # number of trees in the random forest\n",
    "max_features = ['auto', 'sqrt'] # number of features in consideration at every split\n",
    "max_depth = [int(x) for x in np.linspace(10, 120, num = 12)] # maximum number of levels allowed in each decision tree\n",
    "min_samples_split = [2, 4, 6, 8, 10] # minimum sample number to split a node\n",
    "min_samples_leaf = [1, 3, 4] # minimum sample number that can be stored in a leaf node\n",
    "bootstrap = [True, False] # method used to sample data points\n",
    "\n",
    "random_grid = {'n_estimators': n_estimators,\n",
    "\n",
    "'max_features': max_features,\n",
    "\n",
    "'max_depth': max_depth,\n",
    "\n",
    "'min_samples_split': min_samples_split,\n",
    "\n",
    "'min_samples_leaf': min_samples_leaf,\n",
    "\n",
    "'bootstrap': bootstrap}"
   ]
  },
  {
   "cell_type": "code",
   "execution_count": 61,
   "id": "011e134d",
   "metadata": {},
   "outputs": [],
   "source": [
    "# Creates the random search\n",
    "rf_random = RandomizedSearchCV(estimator = rfc,param_distributions = random_grid,\n",
    "               n_iter = 100, cv = 5, verbose=2, random_state=35, n_jobs = -1)"
   ]
  },
  {
   "cell_type": "code",
   "execution_count": 62,
   "id": "b3ed155d",
   "metadata": {},
   "outputs": [
    {
     "name": "stdout",
     "output_type": "stream",
     "text": [
      "Fitting 5 folds for each of 100 candidates, totalling 500 fits\n"
     ]
    },
    {
     "data": {
      "text/plain": [
       "RandomizedSearchCV(cv=5, estimator=RandomForestClassifier(), n_iter=100,\n",
       "                   n_jobs=-1,\n",
       "                   param_distributions={'bootstrap': [True, False],\n",
       "                                        'max_depth': [10, 20, 30, 40, 50, 60,\n",
       "                                                      70, 80, 90, 100, 110,\n",
       "                                                      120],\n",
       "                                        'max_features': ['auto', 'sqrt'],\n",
       "                                        'min_samples_leaf': [1, 3, 4],\n",
       "                                        'min_samples_split': [2, 4, 6, 8, 10],\n",
       "                                        'n_estimators': [5, 10, 20, 50, 100,\n",
       "                                                         120, 140, 160]},\n",
       "                   random_state=35, verbose=2)"
      ]
     },
     "execution_count": 62,
     "metadata": {},
     "output_type": "execute_result"
    }
   ],
   "source": [
    "# Fits the search to our data\n",
    "rf_random.fit(X_train, y_train)"
   ]
  },
  {
   "cell_type": "code",
   "execution_count": 63,
   "id": "2fd47ec4",
   "metadata": {},
   "outputs": [
    {
     "name": "stdout",
     "output_type": "stream",
     "text": [
      "Random grid:  {'n_estimators': [5, 10, 20, 50, 100, 120, 140, 160], 'max_features': ['auto', 'sqrt'], 'max_depth': [10, 20, 30, 40, 50, 60, 70, 80, 90, 100, 110, 120], 'min_samples_split': [2, 4, 6, 8, 10], 'min_samples_leaf': [1, 3, 4], 'bootstrap': [True, False]} \n",
      "\n",
      "Best Parameters:  {'n_estimators': 140, 'min_samples_split': 2, 'min_samples_leaf': 1, 'max_features': 'sqrt', 'max_depth': 90, 'bootstrap': False}  \n",
      "\n"
     ]
    }
   ],
   "source": [
    "# Shows our best hyperparameters\n",
    "print ('Random grid: ', random_grid, '\\n')\n",
    "# print the best parameters\n",
    "print ('Best Parameters: ', rf_random.best_params_, ' \\n')"
   ]
  },
  {
   "cell_type": "code",
   "execution_count": 84,
   "id": "798fc2f4",
   "metadata": {},
   "outputs": [],
   "source": [
    "# Applies our best parameters to our random forest\n",
    "\n",
    "rfc = RandomForestClassifier(n_estimators = 140, min_samples_split = 2, min_samples_leaf = 1, max_features = 'sqrt', max_depth = 90, bootstrap = False)"
   ]
  },
  {
   "cell_type": "code",
   "execution_count": 85,
   "id": "23bfed45",
   "metadata": {},
   "outputs": [
    {
     "data": {
      "text/plain": [
       "RandomForestClassifier(bootstrap=False, max_depth=90, max_features='sqrt',\n",
       "                       n_estimators=140)"
      ]
     },
     "execution_count": 85,
     "metadata": {},
     "output_type": "execute_result"
    }
   ],
   "source": [
    "# Fits the data\n",
    "rfc.fit(X_train, y_train)"
   ]
  },
  {
   "cell_type": "code",
   "execution_count": 86,
   "id": "731a4f92",
   "metadata": {},
   "outputs": [],
   "source": [
    "# Stores our prediction\n",
    "pred_test = rfc.predict(X_test)"
   ]
  },
  {
   "cell_type": "code",
   "execution_count": 87,
   "id": "9b38caeb",
   "metadata": {},
   "outputs": [
    {
     "name": "stdout",
     "output_type": "stream",
     "text": [
      "              precision    recall  f1-score   support\n",
      "\n",
      "      DAMAGE       0.97      0.98      0.97       252\n",
      "     SUPPORT       0.95      0.93      0.94        96\n",
      "        TANK       0.98      0.98      0.98        99\n",
      "\n",
      "    accuracy                           0.97       447\n",
      "   macro avg       0.97      0.96      0.96       447\n",
      "weighted avg       0.97      0.97      0.97       447\n",
      "\n"
     ]
    }
   ],
   "source": [
    "# Prints the classification report\n",
    "print(classification_report(y_test, pred_test))"
   ]
  },
  {
   "cell_type": "code",
   "execution_count": 68,
   "id": "7761cdc7",
   "metadata": {},
   "outputs": [
    {
     "data": {
      "image/png": "[encoded data removed]",
      "text/plain": [
       "<Figure size 1152x504 with 2 Axes>"
      ]
     },
     "metadata": {},
     "output_type": "display_data"
    }
   ],
   "source": [
    "# Creates the confusion matrix for the tuned random forest\n",
    "# Get and reshape confusion matrix data\n",
    "matrix = confusion_matrix(y_test, pred_test)\n",
    "matrix = matrix.astype('float') / matrix.sum(axis=1)[:, np.newaxis]\n",
    "\n",
    "# Build the plot\n",
    "plt.figure(figsize=(16,7))\n",
    "sns.set(font_scale=1.4)\n",
    "sns.heatmap(matrix, annot=True, annot_kws={'size':10},\n",
    "            cmap=plt.cm.Greens, linewidths=0.2)\n",
    "\n",
    "# Add labels to the plot\n",
    "class_names = ['Damage', 'Support', \"Tank\"]\n",
    "tick_marks = np.arange(len(class_names))\n",
    "tick_marks2 = tick_marks + 0.5\n",
    "plt.xticks(tick_marks, class_names, rotation=25)\n",
    "plt.yticks(tick_marks2, class_names, rotation=0)\n",
    "plt.xlabel('Predicted label')\n",
    "plt.ylabel('True label')\n",
    "plt.title('Confusion Matrix for Random Forest Tuned Hyperparameters')\n",
    "plt.show()"
   ]
  },
  {
   "cell_type": "code",
   "execution_count": 88,
   "id": "c0ca2678",
   "metadata": {},
   "outputs": [],
   "source": [
    "# creates the n for KNN\n",
    "n_sqrt = np.sqrt(X_train.shape[0])"
   ]
  },
  {
   "cell_type": "code",
   "execution_count": 89,
   "id": "c25af29f-d8de-4fa5-93b4-ffe17c4bcf7f",
   "metadata": {},
   "outputs": [],
   "source": [
    "# Creates the KNN with the new N + 1\n",
    "knn = knn = KNeighborsClassifier(n_neighbors = int(n_sqrt)+1)"
   ]
  },
  {
   "cell_type": "code",
   "execution_count": 90,
   "id": "900ed286-c64f-4d1c-9233-cc1b047bf3da",
   "metadata": {},
   "outputs": [
    {
     "data": {
      "text/plain": [
       "KNeighborsClassifier(n_neighbors=33)"
      ]
     },
     "execution_count": 90,
     "metadata": {},
     "output_type": "execute_result"
    }
   ],
   "source": [
    "# Fits in the data\n",
    "knn.fit(X_train, y_train)"
   ]
  },
  {
   "cell_type": "code",
   "execution_count": 91,
   "id": "3ab02403-5b10-4ace-9676-8f18c5601ea8",
   "metadata": {},
   "outputs": [],
   "source": [
    "# Stores the prediction\n",
    "pred_test = knn.predict(X_test)"
   ]
  },
  {
   "cell_type": "code",
   "execution_count": 92,
   "id": "7125e2ac-11b1-43e6-a1a8-f3f871779b39",
   "metadata": {},
   "outputs": [
    {
     "name": "stdout",
     "output_type": "stream",
     "text": [
      "              precision    recall  f1-score   support\n",
      "\n",
      "      DAMAGE       0.87      0.92      0.89       252\n",
      "     SUPPORT       0.83      0.75      0.79        96\n",
      "        TANK       0.87      0.83      0.85        99\n",
      "\n",
      "    accuracy                           0.86       447\n",
      "   macro avg       0.86      0.83      0.84       447\n",
      "weighted avg       0.86      0.86      0.86       447\n",
      "\n"
     ]
    }
   ],
   "source": [
    "# Shows the classification report\n",
    "print(classification_report(y_test, pred_test))"
   ]
  },
  {
   "cell_type": "code",
   "execution_count": 93,
   "id": "3624c702-1c4c-4ad0-ba39-3afebf56cb4e",
   "metadata": {},
   "outputs": [
    {
     "data": {
      "image/png": "[encoded data removed]",
      "text/plain": [
       "<Figure size 1152x504 with 2 Axes>"
      ]
     },
     "metadata": {},
     "output_type": "display_data"
    }
   ],
   "source": [
    "# Creates the confusion matrix for KNN with new N\n",
    "# Get and reshape confusion matrix data\n",
    "matrix = confusion_matrix(y_test, pred_test)\n",
    "matrix = matrix.astype('float') / matrix.sum(axis=1)[:, np.newaxis]\n",
    "\n",
    "# Build the plot\n",
    "plt.figure(figsize=(16,7))\n",
    "sns.set(font_scale=1.4)\n",
    "sns.heatmap(matrix, annot=True, annot_kws={'size':10},\n",
    "            cmap=plt.cm.Greens, linewidths=0.2)\n",
    "\n",
    "# Add labels to the plot\n",
    "class_names = ['Damage', 'Support', \"Tank\"]\n",
    "tick_marks = np.arange(len(class_names))\n",
    "tick_marks2 = tick_marks + 0.5\n",
    "plt.xticks(tick_marks, class_names, rotation=25)\n",
    "plt.yticks(tick_marks2, class_names, rotation=0)\n",
    "plt.xlabel('Predicted label')\n",
    "plt.ylabel('True label')\n",
    "plt.title('Confusion Matrix for KNN with a user defined N')\n",
    "plt.show()"
   ]
  },
  {
   "cell_type": "code",
   "execution_count": 75,
   "id": "bf53dc36-3a39-4fed-9e95-e578d5066b14",
   "metadata": {},
   "outputs": [],
   "source": [
    "# Creates a pickle file that stores our model\n",
    "import pickle \n",
    "pickle_out = open(\"classifier.pkl\", mode = \"wb\") \n",
    "pickle.dump(rfc, pickle_out) \n",
    "pickle_out.close()"
   ]
  },
  {
   "cell_type": "code",
   "execution_count": 95,
   "id": "87503b1c-f65d-4e09-be2d-18e45a87cf8d",
   "metadata": {},
   "outputs": [
    {
     "data": {
      "text/plain": [
       "[array(['Ana', 'Ashe', 'Baptiste', 'Bastion', 'Brigitte', 'D.Va',\n",
       "        'Doomfist', 'Echo', 'Genji', 'Hanzo', 'Junkrat', 'Lúcio', 'McCree',\n",
       "        'Mei', 'Mercy', 'Moira', 'Orisa', 'Pharah', 'Reaper', 'Reinhardt',\n",
       "        'Roadhog', 'Sigma', 'Soldier: 76', 'Sombra', 'Symmetra',\n",
       "        'Torbjörn', 'Tracer', 'Widowmaker', 'Winston', 'Wrecking Ball',\n",
       "        'Zarya', 'Zenyatta'], dtype=object)]"
      ]
     },
     "execution_count": 95,
     "metadata": {},
     "output_type": "execute_result"
    }
   ],
   "source": [
    "encoder2.categories_"
   ]
  },
  {
   "cell_type": "code",
   "execution_count": null,
   "id": "aa3c2c0c",
   "metadata": {},
   "outputs": [],
   "source": []
  }
 ],
 "metadata": {
  "kernelspec": {
   "display_name": "Python 3 (ipykernel)",
   "language": "python",
   "name": "python3"
  },
  "language_info": {
   "codemirror_mode": {
    "name": "ipython",
    "version": 3
   },
   "file_extension": ".py",
   "mimetype": "text/x-python",
   "name": "python",
   "nbconvert_exporter": "python",
   "pygments_lexer": "ipython3",
   "version": "3.9.12"
  }
 },
 "nbformat": 4,
 "nbformat_minor": 5
}
